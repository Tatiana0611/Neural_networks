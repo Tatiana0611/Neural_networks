{
 "cells": [
  {
   "cell_type": "markdown",
   "id": "b51f4c7e",
   "metadata": {},
   "source": [
    "# Прогноз символов\n",
    "\n",
    "<https://proproprogs.ru/neural_network/kak-rekurrentnaya-neyronnaya-set-prognoziruet-simvoly>"
   ]
  },
  {
   "cell_type": "code",
   "execution_count": 1,
   "id": "d64326af",
   "metadata": {},
   "outputs": [
    {
     "name": "stdout",
     "output_type": "stream",
     "text": [
      "WARNING:tensorflow:From C:\\Users\\tatia\\anaconda3\\lib\\site-packages\\keras\\src\\losses.py:2976: The name tf.losses.sparse_softmax_cross_entropy is deprecated. Please use tf.compat.v1.losses.sparse_softmax_cross_entropy instead.\n",
      "\n"
     ]
    }
   ],
   "source": [
    "import re\n",
    "from tensorflow.keras.preprocessing.text import Tokenizer\n",
    "import numpy as np\n",
    "from keras.layers import SimpleRNN, Input, Dense\n",
    "from keras.models import Sequential"
   ]
  },
  {
   "cell_type": "code",
   "execution_count": 2,
   "id": "f22cb37b",
   "metadata": {},
   "outputs": [],
   "source": [
    "with open('hw_51.txt', 'r', encoding='utf-8') as f:\n",
    "    text = f.read()\n",
    "    text = text.replace('\\ufeff', '') # убираем первый невидимый символ\n",
    "    text = re.sub(r'[^А-я ]', '', text) # убираем все недопустимые символы"
   ]
  },
  {
   "cell_type": "code",
   "execution_count": 3,
   "id": "c080eb81",
   "metadata": {},
   "outputs": [],
   "source": [
    "num_characters = 34 #33 буквы + пробел"
   ]
  },
  {
   "cell_type": "code",
   "execution_count": 4,
   "id": "8f41b784",
   "metadata": {},
   "outputs": [],
   "source": [
    "# создание экземпляра класса Tokenizer (инструмент, который делает \n",
    "# «умный» парсинг (разложение на составляющие элементы) указанного текста)\n",
    "# параметры:\n",
    "#     num_words – максимальное количество слов (символов), которое вернет Tokenizer (если элементов будет больше, то останутся наиболее повторяющиеся в тексте);\n",
    "#     filters – исключаемые из текста символы (по умолчанию, следующие: !–»—#$%&()*+,-./:;<=>?@[\\]^_`{|}~\\t\\n\\r);\n",
    "#     lower = True – автоматический перевод в нижний регистр для единообразия больших и малых символов;\n",
    "#     split = '  ' – разделение слов по символу пробела;\n",
    "#     char_level=False – если False, то текст делится на слова, иначе – на символы.\n",
    "\n",
    "tokenizer = Tokenizer(num_words=num_characters, char_level=True)"
   ]
  },
  {
   "cell_type": "code",
   "execution_count": 5,
   "id": "46b891d5",
   "metadata": {},
   "outputs": [],
   "source": [
    "# пропустим через него загруженный текст\n",
    "tokenizer.fit_on_texts(text)"
   ]
  },
  {
   "cell_type": "code",
   "execution_count": 6,
   "id": "5116307c",
   "metadata": {},
   "outputs": [
    {
     "name": "stdout",
     "output_type": "stream",
     "text": [
      "{' ': 1, 'о': 2, 'е': 3, 'т': 4, 'и': 5, 'а': 6, 'н': 7, 'с': 8, 'в': 9, 'р': 10, 'м': 11, 'л': 12, 'ь': 13, 'д': 14, 'п': 15, 'у': 16, 'ы': 17, 'з': 18, 'я': 19, 'б': 20, 'ч': 21, 'к': 22, 'й': 23, 'ж': 24, 'г': 25, 'ш': 26, 'х': 27, 'ю': 28, 'ц': 29, 'щ': 30, 'э': 31, 'ф': 32, 'ъ': 33}\n"
     ]
    }
   ],
   "source": [
    "print(tokenizer.word_index)"
   ]
  },
  {
   "cell_type": "code",
   "execution_count": 7,
   "id": "28172ae1",
   "metadata": {},
   "outputs": [],
   "source": [
    "# преобразуем текст в набор OHE-векторов\n",
    "inp_chars = 5\n",
    "data = tokenizer.texts_to_matrix(text)"
   ]
  },
  {
   "cell_type": "code",
   "execution_count": 8,
   "id": "451109fb",
   "metadata": {},
   "outputs": [],
   "source": [
    "# вычислим размер обучающего множества\n",
    "n = data.shape[0]-inp_chars"
   ]
  },
  {
   "cell_type": "code",
   "execution_count": 9,
   "id": "70e2c739",
   "metadata": {},
   "outputs": [],
   "source": [
    "# сформируем входной тензор и прогнозные значения\n",
    "X = np.array([data[i:i+inp_chars, :] for i in range(n)])\n",
    "Y = data[inp_chars:] #предсказание следующего символа"
   ]
  },
  {
   "cell_type": "code",
   "execution_count": 10,
   "id": "d84329d3",
   "metadata": {},
   "outputs": [
    {
     "name": "stdout",
     "output_type": "stream",
     "text": [
      "WARNING:tensorflow:From C:\\Users\\tatia\\anaconda3\\lib\\site-packages\\keras\\src\\backend.py:873: The name tf.get_default_graph is deprecated. Please use tf.compat.v1.get_default_graph instead.\n",
      "\n",
      "Model: \"sequential\"\n",
      "_________________________________________________________________\n",
      " Layer (type)                Output Shape              Param #   \n",
      "=================================================================\n",
      " simple_rnn (SimpleRNN)      (None, 128)               20864     \n",
      "                                                                 \n",
      " dense (Dense)               (None, 34)                4386      \n",
      "                                                                 \n",
      "=================================================================\n",
      "Total params: 25250 (98.63 KB)\n",
      "Trainable params: 25250 (98.63 KB)\n",
      "Non-trainable params: 0 (0.00 Byte)\n",
      "_________________________________________________________________\n"
     ]
    }
   ],
   "source": [
    "# создадим рекуррентную НС с помощью Keras\n",
    "model = Sequential()\n",
    "model.add(Input((inp_chars, num_characters))) \n",
    "model.add(SimpleRNN(128, activation='tanh')) \n",
    "model.add(Dense(num_characters, activation='softmax'))\n",
    "model.summary()"
   ]
  },
  {
   "cell_type": "code",
   "execution_count": 11,
   "id": "9b4879bb",
   "metadata": {},
   "outputs": [
    {
     "name": "stdout",
     "output_type": "stream",
     "text": [
      "WARNING:tensorflow:From C:\\Users\\tatia\\anaconda3\\lib\\site-packages\\keras\\src\\optimizers\\__init__.py:309: The name tf.train.Optimizer is deprecated. Please use tf.compat.v1.train.Optimizer instead.\n",
      "\n",
      "Epoch 1/100\n",
      "WARNING:tensorflow:From C:\\Users\\tatia\\anaconda3\\lib\\site-packages\\keras\\src\\utils\\tf_utils.py:492: The name tf.ragged.RaggedTensorValue is deprecated. Please use tf.compat.v1.ragged.RaggedTensorValue instead.\n",
      "\n",
      "WARNING:tensorflow:From C:\\Users\\tatia\\anaconda3\\lib\\site-packages\\keras\\src\\engine\\base_layer_utils.py:384: The name tf.executing_eagerly_outside_functions is deprecated. Please use tf.compat.v1.executing_eagerly_outside_functions instead.\n",
      "\n",
      "197/197 [==============================] - 2s 3ms/step - loss: 2.9547 - accuracy: 0.1858\n",
      "Epoch 2/100\n",
      "197/197 [==============================] - 1s 3ms/step - loss: 2.6182 - accuracy: 0.2685\n",
      "Epoch 3/100\n",
      "197/197 [==============================] - 1s 3ms/step - loss: 2.4373 - accuracy: 0.3174\n",
      "Epoch 4/100\n",
      "197/197 [==============================] - 1s 3ms/step - loss: 2.3129 - accuracy: 0.3412\n",
      "Epoch 5/100\n",
      "197/197 [==============================] - 1s 3ms/step - loss: 2.2219 - accuracy: 0.3612\n",
      "Epoch 6/100\n",
      "197/197 [==============================] - 1s 3ms/step - loss: 2.1585 - accuracy: 0.3743\n",
      "Epoch 7/100\n",
      "197/197 [==============================] - 1s 3ms/step - loss: 2.1066 - accuracy: 0.3929\n",
      "Epoch 8/100\n",
      "197/197 [==============================] - 1s 3ms/step - loss: 2.0664 - accuracy: 0.3910\n",
      "Epoch 9/100\n",
      "197/197 [==============================] - 1s 3ms/step - loss: 2.0298 - accuracy: 0.4040\n",
      "Epoch 10/100\n",
      "197/197 [==============================] - 1s 3ms/step - loss: 1.9906 - accuracy: 0.4080\n",
      "Epoch 11/100\n",
      "197/197 [==============================] - 1s 3ms/step - loss: 1.9590 - accuracy: 0.4197\n",
      "Epoch 12/100\n",
      "197/197 [==============================] - 1s 3ms/step - loss: 1.9276 - accuracy: 0.4268\n",
      "Epoch 13/100\n",
      "197/197 [==============================] - 1s 3ms/step - loss: 1.8907 - accuracy: 0.4302\n",
      "Epoch 14/100\n",
      "197/197 [==============================] - 1s 3ms/step - loss: 1.8588 - accuracy: 0.4445\n",
      "Epoch 15/100\n",
      "197/197 [==============================] - 1s 3ms/step - loss: 1.8262 - accuracy: 0.4505\n",
      "Epoch 16/100\n",
      "197/197 [==============================] - 1s 3ms/step - loss: 1.7903 - accuracy: 0.4651\n",
      "Epoch 17/100\n",
      "197/197 [==============================] - 1s 3ms/step - loss: 1.7559 - accuracy: 0.4729\n",
      "Epoch 18/100\n",
      "197/197 [==============================] - 1s 3ms/step - loss: 1.7219 - accuracy: 0.4841\n",
      "Epoch 19/100\n",
      "197/197 [==============================] - 1s 3ms/step - loss: 1.6921 - accuracy: 0.4956\n",
      "Epoch 20/100\n",
      "197/197 [==============================] - 1s 3ms/step - loss: 1.6523 - accuracy: 0.5079\n",
      "Epoch 21/100\n",
      "197/197 [==============================] - 1s 3ms/step - loss: 1.6223 - accuracy: 0.5119\n",
      "Epoch 22/100\n",
      "197/197 [==============================] - 1s 3ms/step - loss: 1.5905 - accuracy: 0.5255\n",
      "Epoch 23/100\n",
      "197/197 [==============================] - 1s 3ms/step - loss: 1.5619 - accuracy: 0.5257\n",
      "Epoch 24/100\n",
      "197/197 [==============================] - 1s 3ms/step - loss: 1.5221 - accuracy: 0.5468\n",
      "Epoch 25/100\n",
      "197/197 [==============================] - 1s 3ms/step - loss: 1.4954 - accuracy: 0.5478\n",
      "Epoch 26/100\n",
      "197/197 [==============================] - 1s 3ms/step - loss: 1.4672 - accuracy: 0.5592\n",
      "Epoch 27/100\n",
      "197/197 [==============================] - 1s 3ms/step - loss: 1.4303 - accuracy: 0.5682\n",
      "Epoch 28/100\n",
      "197/197 [==============================] - 1s 4ms/step - loss: 1.4066 - accuracy: 0.5698\n",
      "Epoch 29/100\n",
      "197/197 [==============================] - 1s 3ms/step - loss: 1.3776 - accuracy: 0.5809\n",
      "Epoch 30/100\n",
      "197/197 [==============================] - 1s 3ms/step - loss: 1.3480 - accuracy: 0.5870\n",
      "Epoch 31/100\n",
      "197/197 [==============================] - 1s 3ms/step - loss: 1.3120 - accuracy: 0.5993\n",
      "Epoch 32/100\n",
      "197/197 [==============================] - 1s 3ms/step - loss: 1.2982 - accuracy: 0.6052\n",
      "Epoch 33/100\n",
      "197/197 [==============================] - 1s 3ms/step - loss: 1.2684 - accuracy: 0.6063\n",
      "Epoch 34/100\n",
      "197/197 [==============================] - 1s 3ms/step - loss: 1.2370 - accuracy: 0.6250\n",
      "Epoch 35/100\n",
      "197/197 [==============================] - 1s 3ms/step - loss: 1.2139 - accuracy: 0.6306\n",
      "Epoch 36/100\n",
      "197/197 [==============================] - 1s 3ms/step - loss: 1.1890 - accuracy: 0.6368\n",
      "Epoch 37/100\n",
      "197/197 [==============================] - 1s 3ms/step - loss: 1.1663 - accuracy: 0.6446\n",
      "Epoch 38/100\n",
      "197/197 [==============================] - 1s 3ms/step - loss: 1.1368 - accuracy: 0.6523\n",
      "Epoch 39/100\n",
      "197/197 [==============================] - 1s 3ms/step - loss: 1.1173 - accuracy: 0.6585\n",
      "Epoch 40/100\n",
      "197/197 [==============================] - 1s 3ms/step - loss: 1.0986 - accuracy: 0.6638\n",
      "Epoch 41/100\n",
      "197/197 [==============================] - 1s 3ms/step - loss: 1.0730 - accuracy: 0.6680\n",
      "Epoch 42/100\n",
      "197/197 [==============================] - 1s 3ms/step - loss: 1.0585 - accuracy: 0.6698\n",
      "Epoch 43/100\n",
      "197/197 [==============================] - 1s 3ms/step - loss: 1.0264 - accuracy: 0.6890\n",
      "Epoch 44/100\n",
      "197/197 [==============================] - 1s 3ms/step - loss: 1.0143 - accuracy: 0.6857\n",
      "Epoch 45/100\n",
      "197/197 [==============================] - 1s 3ms/step - loss: 0.9932 - accuracy: 0.6936\n",
      "Epoch 46/100\n",
      "197/197 [==============================] - 1s 3ms/step - loss: 0.9739 - accuracy: 0.7015\n",
      "Epoch 47/100\n",
      "197/197 [==============================] - 1s 3ms/step - loss: 0.9583 - accuracy: 0.7010\n",
      "Epoch 48/100\n",
      "197/197 [==============================] - 1s 3ms/step - loss: 0.9368 - accuracy: 0.7136\n",
      "Epoch 49/100\n",
      "197/197 [==============================] - 1s 3ms/step - loss: 0.9149 - accuracy: 0.7164\n",
      "Epoch 50/100\n",
      "197/197 [==============================] - 1s 3ms/step - loss: 0.9061 - accuracy: 0.7182\n",
      "Epoch 51/100\n",
      "197/197 [==============================] - 1s 3ms/step - loss: 0.8836 - accuracy: 0.7312\n",
      "Epoch 52/100\n",
      "197/197 [==============================] - 1s 3ms/step - loss: 0.8768 - accuracy: 0.7277\n",
      "Epoch 53/100\n",
      "197/197 [==============================] - 1s 3ms/step - loss: 0.8476 - accuracy: 0.7369\n",
      "Epoch 54/100\n",
      "197/197 [==============================] - 1s 3ms/step - loss: 0.8368 - accuracy: 0.7415\n",
      "Epoch 55/100\n",
      "197/197 [==============================] - 1s 3ms/step - loss: 0.8207 - accuracy: 0.7414\n",
      "Epoch 56/100\n",
      "197/197 [==============================] - 1s 3ms/step - loss: 0.8064 - accuracy: 0.7494\n",
      "Epoch 57/100\n",
      "197/197 [==============================] - 1s 3ms/step - loss: 0.7933 - accuracy: 0.7488\n",
      "Epoch 58/100\n",
      "197/197 [==============================] - 1s 3ms/step - loss: 0.7767 - accuracy: 0.7604\n",
      "Epoch 59/100\n",
      "197/197 [==============================] - 1s 3ms/step - loss: 0.7650 - accuracy: 0.7610\n",
      "Epoch 60/100\n",
      "197/197 [==============================] - 1s 3ms/step - loss: 0.7601 - accuracy: 0.7650\n",
      "Epoch 61/100\n",
      "197/197 [==============================] - 1s 3ms/step - loss: 0.7351 - accuracy: 0.7696\n",
      "Epoch 62/100\n",
      "197/197 [==============================] - 1s 3ms/step - loss: 0.7241 - accuracy: 0.7717\n",
      "Epoch 63/100\n",
      "197/197 [==============================] - 1s 3ms/step - loss: 0.7183 - accuracy: 0.7759\n",
      "Epoch 64/100\n",
      "197/197 [==============================] - 1s 3ms/step - loss: 0.7101 - accuracy: 0.7828\n",
      "Epoch 65/100\n",
      "197/197 [==============================] - 1s 3ms/step - loss: 0.6980 - accuracy: 0.7845\n",
      "Epoch 66/100\n",
      "197/197 [==============================] - 1s 3ms/step - loss: 0.6802 - accuracy: 0.7883\n",
      "Epoch 67/100\n",
      "197/197 [==============================] - 1s 3ms/step - loss: 0.6792 - accuracy: 0.7850\n",
      "Epoch 68/100\n",
      "197/197 [==============================] - 1s 3ms/step - loss: 0.6655 - accuracy: 0.7909\n",
      "Epoch 69/100\n",
      "197/197 [==============================] - 1s 3ms/step - loss: 0.6567 - accuracy: 0.7910\n",
      "Epoch 70/100\n",
      "197/197 [==============================] - 1s 3ms/step - loss: 0.6427 - accuracy: 0.7959\n",
      "Epoch 71/100\n",
      "197/197 [==============================] - 1s 3ms/step - loss: 0.6389 - accuracy: 0.7990\n",
      "Epoch 72/100\n",
      "197/197 [==============================] - 1s 3ms/step - loss: 0.6389 - accuracy: 0.7972\n",
      "Epoch 73/100\n",
      "197/197 [==============================] - 1s 3ms/step - loss: 0.6217 - accuracy: 0.8013\n",
      "Epoch 74/100\n",
      "197/197 [==============================] - 1s 3ms/step - loss: 0.6174 - accuracy: 0.8058\n",
      "Epoch 75/100\n"
     ]
    },
    {
     "name": "stdout",
     "output_type": "stream",
     "text": [
      "197/197 [==============================] - 1s 3ms/step - loss: 0.6059 - accuracy: 0.8080\n",
      "Epoch 76/100\n",
      "197/197 [==============================] - 1s 3ms/step - loss: 0.5983 - accuracy: 0.8102\n",
      "Epoch 77/100\n",
      "197/197 [==============================] - 1s 3ms/step - loss: 0.6001 - accuracy: 0.8069\n",
      "Epoch 78/100\n",
      "197/197 [==============================] - 1s 3ms/step - loss: 0.5879 - accuracy: 0.8180\n",
      "Epoch 79/100\n",
      "197/197 [==============================] - 1s 3ms/step - loss: 0.5798 - accuracy: 0.8072\n",
      "Epoch 80/100\n",
      "197/197 [==============================] - 1s 3ms/step - loss: 0.5760 - accuracy: 0.8143\n",
      "Epoch 81/100\n",
      "197/197 [==============================] - 1s 3ms/step - loss: 0.5697 - accuracy: 0.8131\n",
      "Epoch 82/100\n",
      "197/197 [==============================] - 1s 3ms/step - loss: 0.5641 - accuracy: 0.8188\n",
      "Epoch 83/100\n",
      "197/197 [==============================] - 1s 3ms/step - loss: 0.5617 - accuracy: 0.8209\n",
      "Epoch 84/100\n",
      "197/197 [==============================] - 1s 3ms/step - loss: 0.5624 - accuracy: 0.8169\n",
      "Epoch 85/100\n",
      "197/197 [==============================] - 1s 3ms/step - loss: 0.5525 - accuracy: 0.8213\n",
      "Epoch 86/100\n",
      "197/197 [==============================] - 1s 3ms/step - loss: 0.5466 - accuracy: 0.8224\n",
      "Epoch 87/100\n",
      "197/197 [==============================] - 1s 3ms/step - loss: 0.5429 - accuracy: 0.8210\n",
      "Epoch 88/100\n",
      "197/197 [==============================] - 1s 3ms/step - loss: 0.5332 - accuracy: 0.8248\n",
      "Epoch 89/100\n",
      "197/197 [==============================] - 1s 3ms/step - loss: 0.5339 - accuracy: 0.8239\n",
      "Epoch 90/100\n",
      "197/197 [==============================] - 1s 3ms/step - loss: 0.5281 - accuracy: 0.8243\n",
      "Epoch 91/100\n",
      "197/197 [==============================] - 1s 3ms/step - loss: 0.5209 - accuracy: 0.8280\n",
      "Epoch 92/100\n",
      "197/197 [==============================] - 1s 3ms/step - loss: 0.5121 - accuracy: 0.8291\n",
      "Epoch 93/100\n",
      "197/197 [==============================] - 1s 3ms/step - loss: 0.5158 - accuracy: 0.8321\n",
      "Epoch 94/100\n",
      "197/197 [==============================] - 1s 3ms/step - loss: 0.5126 - accuracy: 0.8307\n",
      "Epoch 95/100\n",
      "197/197 [==============================] - 1s 3ms/step - loss: 0.5164 - accuracy: 0.8297\n",
      "Epoch 96/100\n",
      "197/197 [==============================] - 1s 3ms/step - loss: 0.5098 - accuracy: 0.8294\n",
      "Epoch 97/100\n",
      "197/197 [==============================] - 1s 3ms/step - loss: 0.5030 - accuracy: 0.8267\n",
      "Epoch 98/100\n",
      "197/197 [==============================] - 1s 3ms/step - loss: 0.5046 - accuracy: 0.8232\n",
      "Epoch 99/100\n",
      "197/197 [==============================] - 1s 3ms/step - loss: 0.4987 - accuracy: 0.8321\n",
      "Epoch 100/100\n",
      "197/197 [==============================] - 1s 3ms/step - loss: 0.4911 - accuracy: 0.8377\n"
     ]
    }
   ],
   "source": [
    "model.compile(loss='categorical_crossentropy', metrics=['accuracy'], optimizer='adam')\n",
    "history = model.fit(X, Y, batch_size=32, epochs=100)"
   ]
  },
  {
   "cell_type": "code",
   "execution_count": 12,
   "id": "acb802c0",
   "metadata": {},
   "outputs": [],
   "source": [
    "# объявим вспомогательную функцию, в которой будет выполняться прогноз \n",
    "# очередного символа и добавления его в конец начальной строки\n",
    "def buildPhrase(inp_str, str_len = 50):\n",
    "  for i in range(str_len):\n",
    "    x = []\n",
    "    for j in range(i, i+inp_chars):\n",
    "      x.append(tokenizer.texts_to_matrix(inp_str[j])) # преобразуем символы в One-Hot-encoding\n",
    " \n",
    "    x = np.array(x)\n",
    "    inp = x.reshape(1, inp_chars, num_characters)\n",
    " \n",
    "    pred = model.predict( inp ) # предсказываем OHE четвертого символа\n",
    "    d = tokenizer.index_word[pred.argmax(axis=1)[0]] # получаем ответ в символьном представлении\n",
    " \n",
    "    inp_str += d # дописываем строку\n",
    " \n",
    "  return inp_str"
   ]
  },
  {
   "cell_type": "code",
   "execution_count": 16,
   "id": "875523b1",
   "metadata": {},
   "outputs": [
    {
     "name": "stdout",
     "output_type": "stream",
     "text": [
      "1/1 [==============================] - 0s 31ms/step\n",
      "1/1 [==============================] - 0s 34ms/step\n",
      "1/1 [==============================] - 0s 29ms/step\n",
      "1/1 [==============================] - 0s 29ms/step\n",
      "1/1 [==============================] - 0s 32ms/step\n",
      "1/1 [==============================] - 0s 31ms/step\n",
      "1/1 [==============================] - 0s 29ms/step\n",
      "1/1 [==============================] - 0s 32ms/step\n",
      "1/1 [==============================] - 0s 28ms/step\n",
      "1/1 [==============================] - 0s 25ms/step\n",
      "1/1 [==============================] - 0s 28ms/step\n",
      "1/1 [==============================] - 0s 27ms/step\n",
      "1/1 [==============================] - 0s 30ms/step\n",
      "1/1 [==============================] - 0s 29ms/step\n",
      "1/1 [==============================] - 0s 28ms/step\n",
      "1/1 [==============================] - 0s 27ms/step\n",
      "1/1 [==============================] - 0s 25ms/step\n",
      "1/1 [==============================] - 0s 25ms/step\n",
      "1/1 [==============================] - 0s 29ms/step\n",
      "1/1 [==============================] - 0s 26ms/step\n",
      "1/1 [==============================] - 0s 29ms/step\n",
      "1/1 [==============================] - 0s 31ms/step\n",
      "1/1 [==============================] - 0s 29ms/step\n",
      "1/1 [==============================] - 0s 31ms/step\n",
      "1/1 [==============================] - 0s 37ms/step\n",
      "1/1 [==============================] - 0s 26ms/step\n",
      "1/1 [==============================] - 0s 27ms/step\n",
      "1/1 [==============================] - 0s 29ms/step\n",
      "1/1 [==============================] - 0s 31ms/step\n",
      "1/1 [==============================] - 0s 29ms/step\n",
      "1/1 [==============================] - 0s 29ms/step\n",
      "1/1 [==============================] - 0s 30ms/step\n",
      "1/1 [==============================] - 0s 30ms/step\n",
      "1/1 [==============================] - 0s 30ms/step\n",
      "1/1 [==============================] - 0s 30ms/step\n",
      "1/1 [==============================] - 0s 30ms/step\n",
      "1/1 [==============================] - 0s 28ms/step\n",
      "1/1 [==============================] - 0s 30ms/step\n",
      "1/1 [==============================] - 0s 32ms/step\n",
      "1/1 [==============================] - 0s 28ms/step\n",
      "1/1 [==============================] - 0s 28ms/step\n",
      "1/1 [==============================] - 0s 26ms/step\n",
      "1/1 [==============================] - 0s 25ms/step\n",
      "1/1 [==============================] - 0s 27ms/step\n",
      "1/1 [==============================] - 0s 26ms/step\n",
      "1/1 [==============================] - 0s 30ms/step\n",
      "1/1 [==============================] - 0s 31ms/step\n",
      "1/1 [==============================] - 0s 30ms/step\n",
      "1/1 [==============================] - 0s 31ms/step\n",
      "1/1 [==============================] - 0s 33ms/step\n",
      "хорошее действием на всю остальность величайшим просто \n"
     ]
    }
   ],
   "source": [
    "res = buildPhrase(\"хорош\")\n",
    "print(res)"
   ]
  },
  {
   "cell_type": "markdown",
   "id": "c257f0d5",
   "metadata": {},
   "source": [
    "# Прогноз cлов\n",
    "\n",
    "<https://proproprogs.ru/neural_network/delaem-prognoz-slov-rekurrentnoy-setyu-embedding-sloy>"
   ]
  },
  {
   "cell_type": "code",
   "execution_count": 17,
   "id": "99635f99",
   "metadata": {},
   "outputs": [],
   "source": [
    "import os\n",
    "from tensorflow.keras.utils import to_categorical\n",
    "from tensorflow.keras.layers import Embedding\n",
    "from tensorflow.keras.preprocessing.text import text_to_word_sequence"
   ]
  },
  {
   "cell_type": "code",
   "execution_count": 18,
   "id": "ff54b7c4",
   "metadata": {},
   "outputs": [],
   "source": [
    "os.environ['TF_CPP_MIN_LOG_LEVEL'] = '2'"
   ]
  },
  {
   "cell_type": "code",
   "execution_count": 20,
   "id": "d11c9511",
   "metadata": {},
   "outputs": [],
   "source": [
    "with open('hw_52.txt', 'r', encoding='utf-8') as f:\n",
    "    texts = f.read()\n",
    "    texts = texts.replace('\\ufeff', '')  # убираем первый невидимый символ"
   ]
  },
  {
   "cell_type": "code",
   "execution_count": 21,
   "id": "3ef5c299",
   "metadata": {},
   "outputs": [],
   "source": [
    "maxWordsCount = 1000"
   ]
  },
  {
   "cell_type": "code",
   "execution_count": 22,
   "id": "3e9075ae",
   "metadata": {},
   "outputs": [],
   "source": [
    "tokenizer = Tokenizer(num_words=maxWordsCount, filters='!–\"—#$%&amp;()*+,-./:;<=>?@[\\\\]^_`{|}~\\t\\n\\r«»',\n",
    "                      lower=True, split=' ', char_level=False)"
   ]
  },
  {
   "cell_type": "code",
   "execution_count": 23,
   "id": "453b16ee",
   "metadata": {},
   "outputs": [],
   "source": [
    "tokenizer.fit_on_texts([texts])"
   ]
  },
  {
   "cell_type": "code",
   "execution_count": 24,
   "id": "6b3f6aa4",
   "metadata": {},
   "outputs": [
    {
     "name": "stdout",
     "output_type": "stream",
     "text": [
      "[('я', 21), ('притягиваю', 1), ('только', 21), ('плохое', 1), ('кому', 2), ('нужен', 2), ('с', 12), ('такой', 5), ('внешностью', 2), ('не', 91)]\n"
     ]
    }
   ],
   "source": [
    "dist = list(tokenizer.word_counts.items())\n",
    "print(dist[:10])"
   ]
  },
  {
   "cell_type": "code",
   "execution_count": 26,
   "id": "09354e5b",
   "metadata": {},
   "outputs": [],
   "source": [
    "data = tokenizer.texts_to_sequences([texts])\n",
    "res = np.array( data[0] )"
   ]
  },
  {
   "cell_type": "code",
   "execution_count": 27,
   "id": "5b4b6eb1",
   "metadata": {},
   "outputs": [],
   "source": [
    "inp_words = 3\n",
    "n = res.shape[0] - inp_words"
   ]
  },
  {
   "cell_type": "code",
   "execution_count": 28,
   "id": "e05d279a",
   "metadata": {},
   "outputs": [],
   "source": [
    "X = np.array([res[i:i + inp_words] for i in range(n)])\n",
    "Y = to_categorical(res[inp_words:], num_classes=maxWordsCount)"
   ]
  },
  {
   "cell_type": "code",
   "execution_count": 29,
   "id": "e3a3912b",
   "metadata": {},
   "outputs": [
    {
     "name": "stdout",
     "output_type": "stream",
     "text": [
      "Model: \"sequential_1\"\n",
      "_________________________________________________________________\n",
      " Layer (type)                Output Shape              Param #   \n",
      "=================================================================\n",
      " embedding (Embedding)       (None, 3, 256)            256000    \n",
      "                                                                 \n",
      " simple_rnn_1 (SimpleRNN)    (None, 128)               49280     \n",
      "                                                                 \n",
      " dense_1 (Dense)             (None, 1000)              129000    \n",
      "                                                                 \n",
      "=================================================================\n",
      "Total params: 434280 (1.66 MB)\n",
      "Trainable params: 434280 (1.66 MB)\n",
      "Non-trainable params: 0 (0.00 Byte)\n",
      "_________________________________________________________________\n"
     ]
    }
   ],
   "source": [
    "model = Sequential()\n",
    "model.add(Embedding(maxWordsCount, 256, input_length = inp_words))\n",
    "model.add(SimpleRNN(128, activation='tanh'))\n",
    "model.add(Dense(maxWordsCount, activation='softmax'))\n",
    "model.summary()"
   ]
  },
  {
   "cell_type": "code",
   "execution_count": 30,
   "id": "461fbbbc",
   "metadata": {},
   "outputs": [],
   "source": [
    "model.compile(loss='categorical_crossentropy', metrics=['accuracy'], optimizer='adam')"
   ]
  },
  {
   "cell_type": "code",
   "execution_count": 31,
   "id": "52c1da89",
   "metadata": {},
   "outputs": [
    {
     "name": "stdout",
     "output_type": "stream",
     "text": [
      "Epoch 1/50\n",
      "52/52 [==============================] - 2s 6ms/step - loss: 6.8537 - accuracy: 0.0397\n",
      "Epoch 2/50\n",
      "52/52 [==============================] - 0s 6ms/step - loss: 6.1833 - accuracy: 0.0547\n",
      "Epoch 3/50\n",
      "52/52 [==============================] - 0s 6ms/step - loss: 5.7451 - accuracy: 0.0829\n",
      "Epoch 4/50\n",
      "52/52 [==============================] - 0s 6ms/step - loss: 5.2495 - accuracy: 0.1310\n",
      "Epoch 5/50\n",
      "52/52 [==============================] - 0s 6ms/step - loss: 4.6044 - accuracy: 0.2019\n",
      "Epoch 6/50\n",
      "52/52 [==============================] - 0s 6ms/step - loss: 3.9163 - accuracy: 0.3233\n",
      "Epoch 7/50\n",
      "52/52 [==============================] - 0s 7ms/step - loss: 3.2582 - accuracy: 0.4826\n",
      "Epoch 8/50\n",
      "52/52 [==============================] - 0s 6ms/step - loss: 2.6609 - accuracy: 0.6010\n",
      "Epoch 9/50\n",
      "52/52 [==============================] - 0s 6ms/step - loss: 2.1488 - accuracy: 0.6941\n",
      "Epoch 10/50\n",
      "52/52 [==============================] - 0s 6ms/step - loss: 1.7192 - accuracy: 0.7662\n",
      "Epoch 11/50\n",
      "52/52 [==============================] - 0s 6ms/step - loss: 1.3676 - accuracy: 0.8371\n",
      "Epoch 12/50\n",
      "52/52 [==============================] - 0s 6ms/step - loss: 1.0819 - accuracy: 0.8840\n",
      "Epoch 13/50\n",
      "52/52 [==============================] - 0s 8ms/step - loss: 0.8694 - accuracy: 0.9171\n",
      "Epoch 14/50\n",
      "52/52 [==============================] - 0s 7ms/step - loss: 0.6935 - accuracy: 0.9441\n",
      "Epoch 15/50\n",
      "52/52 [==============================] - 0s 6ms/step - loss: 0.5637 - accuracy: 0.9579\n",
      "Epoch 16/50\n",
      "52/52 [==============================] - 0s 6ms/step - loss: 0.4582 - accuracy: 0.9712\n",
      "Epoch 17/50\n",
      "52/52 [==============================] - 0s 6ms/step - loss: 0.3797 - accuracy: 0.9784\n",
      "Epoch 18/50\n",
      "52/52 [==============================] - 0s 6ms/step - loss: 0.3136 - accuracy: 0.9838\n",
      "Epoch 19/50\n",
      "52/52 [==============================] - 0s 6ms/step - loss: 0.2652 - accuracy: 0.9832\n",
      "Epoch 20/50\n",
      "52/52 [==============================] - 0s 6ms/step - loss: 0.2258 - accuracy: 0.9850\n",
      "Epoch 21/50\n",
      "52/52 [==============================] - 0s 6ms/step - loss: 0.1927 - accuracy: 0.9880\n",
      "Epoch 22/50\n",
      "52/52 [==============================] - 0s 6ms/step - loss: 0.1678 - accuracy: 0.9862\n",
      "Epoch 23/50\n",
      "52/52 [==============================] - 0s 6ms/step - loss: 0.1472 - accuracy: 0.9868\n",
      "Epoch 24/50\n",
      "52/52 [==============================] - 0s 6ms/step - loss: 0.1319 - accuracy: 0.9874\n",
      "Epoch 25/50\n",
      "52/52 [==============================] - 0s 6ms/step - loss: 0.1168 - accuracy: 0.9880\n",
      "Epoch 26/50\n",
      "52/52 [==============================] - 0s 6ms/step - loss: 0.1061 - accuracy: 0.9898\n",
      "Epoch 27/50\n",
      "52/52 [==============================] - 0s 6ms/step - loss: 0.0965 - accuracy: 0.9886\n",
      "Epoch 28/50\n",
      "52/52 [==============================] - 0s 6ms/step - loss: 0.0881 - accuracy: 0.9880\n",
      "Epoch 29/50\n",
      "52/52 [==============================] - 0s 6ms/step - loss: 0.0810 - accuracy: 0.9880\n",
      "Epoch 30/50\n",
      "52/52 [==============================] - 0s 6ms/step - loss: 0.0756 - accuracy: 0.9874\n",
      "Epoch 31/50\n",
      "52/52 [==============================] - 0s 6ms/step - loss: 0.0704 - accuracy: 0.9880\n",
      "Epoch 32/50\n",
      "52/52 [==============================] - 0s 6ms/step - loss: 0.0667 - accuracy: 0.9868\n",
      "Epoch 33/50\n",
      "52/52 [==============================] - 0s 6ms/step - loss: 0.0614 - accuracy: 0.9886\n",
      "Epoch 34/50\n",
      "52/52 [==============================] - 0s 6ms/step - loss: 0.0589 - accuracy: 0.9868\n",
      "Epoch 35/50\n",
      "52/52 [==============================] - 0s 6ms/step - loss: 0.0548 - accuracy: 0.9874\n",
      "Epoch 36/50\n",
      "52/52 [==============================] - 0s 6ms/step - loss: 0.0529 - accuracy: 0.9868\n",
      "Epoch 37/50\n",
      "52/52 [==============================] - 0s 6ms/step - loss: 0.0504 - accuracy: 0.9880\n",
      "Epoch 38/50\n",
      "52/52 [==============================] - 0s 6ms/step - loss: 0.0482 - accuracy: 0.9886\n",
      "Epoch 39/50\n",
      "52/52 [==============================] - 0s 6ms/step - loss: 0.0459 - accuracy: 0.9880\n",
      "Epoch 40/50\n",
      "52/52 [==============================] - 0s 6ms/step - loss: 0.0446 - accuracy: 0.9886\n",
      "Epoch 41/50\n",
      "52/52 [==============================] - 0s 6ms/step - loss: 0.0430 - accuracy: 0.9880\n",
      "Epoch 42/50\n",
      "52/52 [==============================] - 0s 7ms/step - loss: 0.0411 - accuracy: 0.9874\n",
      "Epoch 43/50\n",
      "52/52 [==============================] - 0s 6ms/step - loss: 0.0394 - accuracy: 0.9868\n",
      "Epoch 44/50\n",
      "52/52 [==============================] - 0s 6ms/step - loss: 0.0383 - accuracy: 0.9850\n",
      "Epoch 45/50\n",
      "52/52 [==============================] - 0s 6ms/step - loss: 0.0372 - accuracy: 0.9862\n",
      "Epoch 46/50\n",
      "52/52 [==============================] - 0s 6ms/step - loss: 0.0361 - accuracy: 0.9868\n",
      "Epoch 47/50\n",
      "52/52 [==============================] - 0s 6ms/step - loss: 0.0343 - accuracy: 0.9874\n",
      "Epoch 48/50\n",
      "52/52 [==============================] - 0s 6ms/step - loss: 0.0338 - accuracy: 0.9898\n",
      "Epoch 49/50\n",
      "52/52 [==============================] - 0s 6ms/step - loss: 0.0325 - accuracy: 0.9880\n",
      "Epoch 50/50\n",
      "52/52 [==============================] - 0s 6ms/step - loss: 0.0319 - accuracy: 0.9874\n"
     ]
    }
   ],
   "source": [
    "history = model.fit(X, Y, batch_size=32, epochs=50)"
   ]
  },
  {
   "cell_type": "code",
   "execution_count": 33,
   "id": "8a717448",
   "metadata": {},
   "outputs": [],
   "source": [
    "def buildPhrase(texts, str_len=20):\n",
    "    res = texts\n",
    "    data = tokenizer.texts_to_sequences([texts])[0]\n",
    "    for i in range(str_len):\n",
    "        x = data[i: i + inp_words]\n",
    "        inp = np.expand_dims(x, axis=0)\n",
    "\n",
    "        pred = model.predict(inp)\n",
    "        indx = pred.argmax(axis=1)[0]\n",
    "        data.append(indx)\n",
    "\n",
    "        res += \" \" + tokenizer.index_word[indx]  # дописываем строку\n",
    "\n",
    "    return res"
   ]
  },
  {
   "cell_type": "code",
   "execution_count": 35,
   "id": "751ad8bc",
   "metadata": {},
   "outputs": [
    {
     "name": "stdout",
     "output_type": "stream",
     "text": [
      "1/1 [==============================] - 0s 30ms/step\n",
      "1/1 [==============================] - 0s 31ms/step\n",
      "1/1 [==============================] - 0s 29ms/step\n",
      "1/1 [==============================] - 0s 30ms/step\n",
      "1/1 [==============================] - 0s 31ms/step\n",
      "1/1 [==============================] - 0s 30ms/step\n",
      "1/1 [==============================] - 0s 30ms/step\n",
      "1/1 [==============================] - 0s 30ms/step\n",
      "1/1 [==============================] - 0s 27ms/step\n",
      "1/1 [==============================] - 0s 26ms/step\n",
      "1/1 [==============================] - 0s 22ms/step\n",
      "1/1 [==============================] - 0s 29ms/step\n",
      "1/1 [==============================] - 0s 30ms/step\n",
      "1/1 [==============================] - 0s 31ms/step\n",
      "1/1 [==============================] - 0s 33ms/step\n",
      "1/1 [==============================] - 0s 27ms/step\n",
      "1/1 [==============================] - 0s 30ms/step\n",
      "1/1 [==============================] - 0s 26ms/step\n",
      "1/1 [==============================] - 0s 28ms/step\n",
      "1/1 [==============================] - 0s 25ms/step\n",
      "всегда смотрите на позитив всегда превращай счастье боль печаль и слезы в позитивную энергию либо ты бежишь день либо день бежит за тобой\n"
     ]
    }
   ],
   "source": [
    "res = buildPhrase(\"всегда смотрите на\")\n",
    "print(res)"
   ]
  },
  {
   "cell_type": "code",
   "execution_count": null,
   "id": "8434c3fa",
   "metadata": {},
   "outputs": [],
   "source": []
  }
 ],
 "metadata": {
  "kernelspec": {
   "display_name": "Python 3 (ipykernel)",
   "language": "python",
   "name": "python3"
  },
  "language_info": {
   "codemirror_mode": {
    "name": "ipython",
    "version": 3
   },
   "file_extension": ".py",
   "mimetype": "text/x-python",
   "name": "python",
   "nbconvert_exporter": "python",
   "pygments_lexer": "ipython3",
   "version": "3.9.7"
  }
 },
 "nbformat": 4,
 "nbformat_minor": 5
}
