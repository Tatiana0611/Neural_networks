{
 "cells": [
  {
   "cell_type": "code",
   "execution_count": 1,
   "id": "fe876002",
   "metadata": {},
   "outputs": [
    {
     "name": "stdout",
     "output_type": "stream",
     "text": [
      "WARNING:tensorflow:From C:\\Users\\tatia\\anaconda3\\lib\\site-packages\\keras\\src\\losses.py:2976: The name tf.losses.sparse_softmax_cross_entropy is deprecated. Please use tf.compat.v1.losses.sparse_softmax_cross_entropy instead.\n",
      "\n"
     ]
    }
   ],
   "source": [
    "import keras\n",
    "from keras.datasets import mnist\n",
    "from keras.models import Sequential\n",
    "from keras.layers import Dense, Dropout, Flatten\n",
    "from keras.layers import Conv2D, MaxPooling2D"
   ]
  },
  {
   "cell_type": "code",
   "execution_count": 2,
   "id": "07070d70",
   "metadata": {},
   "outputs": [
    {
     "name": "stdout",
     "output_type": "stream",
     "text": [
      "Downloading data from https://storage.googleapis.com/tensorflow/tf-keras-datasets/mnist.npz\n",
      "11490434/11490434 [==============================] - 2s 0us/step\n",
      "(60000, 28, 28) (60000,)\n"
     ]
    }
   ],
   "source": [
    "(x_train, y_train), (x_test, y_test) = mnist.load_data()\n",
    "print(x_train.shape, y_train.shape)"
   ]
  },
  {
   "cell_type": "code",
   "execution_count": 3,
   "id": "70e64f35",
   "metadata": {},
   "outputs": [],
   "source": [
    "x_train = x_train.reshape(x_train.shape[0], 28, 28, 1)\n",
    "x_test = x_test.reshape(x_test.shape[0], 28, 28, 1)\n",
    "input_shape = (28, 28, 1)"
   ]
  },
  {
   "cell_type": "code",
   "execution_count": 8,
   "id": "543f27ce",
   "metadata": {},
   "outputs": [],
   "source": [
    "# преобразование векторных классов в бинарные матрицы\n",
    "num_classes = 10\n",
    "y_train = keras.utils.to_categorical(y_train, num_classes)\n",
    "y_test = keras.utils.to_categorical(y_test, num_classes)"
   ]
  },
  {
   "cell_type": "code",
   "execution_count": 9,
   "id": "3618e769",
   "metadata": {},
   "outputs": [
    {
     "name": "stdout",
     "output_type": "stream",
     "text": [
      "Размерность x_train: (60000, 28, 28, 1)\n",
      "60000 Размер train\n",
      "10000 Размер test\n"
     ]
    }
   ],
   "source": [
    "x_train = x_train.astype('float32')\n",
    "x_test = x_test.astype('float32')\n",
    "x_train /= 255\n",
    "x_test /= 255\n",
    "print('Размерность x_train:', x_train.shape)\n",
    "print(x_train.shape[0], 'Размер train')\n",
    "print(x_test.shape[0], 'Размер test')"
   ]
  },
  {
   "cell_type": "code",
   "execution_count": 18,
   "id": "a68a912d",
   "metadata": {},
   "outputs": [
    {
     "name": "stdout",
     "output_type": "stream",
     "text": [
      "WARNING:tensorflow:From C:\\Users\\tatia\\anaconda3\\lib\\site-packages\\keras\\src\\backend.py:873: The name tf.get_default_graph is deprecated. Please use tf.compat.v1.get_default_graph instead.\n",
      "\n",
      "WARNING:tensorflow:From C:\\Users\\tatia\\anaconda3\\lib\\site-packages\\keras\\src\\layers\\pooling\\max_pooling2d.py:161: The name tf.nn.max_pool is deprecated. Please use tf.nn.max_pool2d instead.\n",
      "\n"
     ]
    }
   ],
   "source": [
    "batch_size = 128\n",
    "epochs = 10\n",
    "\n",
    "model = Sequential()\n",
    "model.add(Conv2D(32, kernel_size=(3, 3),activation='relu',input_shape=input_shape))\n",
    "model.add(Conv2D(64, (3, 3), activation='relu'))\n",
    "model.add(MaxPooling2D(pool_size=(2, 2)))\n",
    "model.add(Dropout(0.25))\n",
    "model.add(Flatten())\n",
    "model.add(Dense(256, activation='relu'))\n",
    "model.add(Dropout(0.5))\n",
    "model.add(Dense(num_classes, activation='softmax'))\n",
    "model.compile(loss=keras.losses.categorical_crossentropy,optimizer=keras.optimizers.Adadelta(),metrics=['accuracy'])"
   ]
  },
  {
   "cell_type": "code",
   "execution_count": 19,
   "id": "77a6de7f",
   "metadata": {},
   "outputs": [
    {
     "name": "stdout",
     "output_type": "stream",
     "text": [
      "Epoch 1/10\n",
      "WARNING:tensorflow:From C:\\Users\\tatia\\anaconda3\\lib\\site-packages\\keras\\src\\utils\\tf_utils.py:492: The name tf.ragged.RaggedTensorValue is deprecated. Please use tf.compat.v1.ragged.RaggedTensorValue instead.\n",
      "\n",
      "WARNING:tensorflow:From C:\\Users\\tatia\\anaconda3\\lib\\site-packages\\keras\\src\\engine\\base_layer_utils.py:384: The name tf.executing_eagerly_outside_functions is deprecated. Please use tf.compat.v1.executing_eagerly_outside_functions instead.\n",
      "\n",
      "469/469 [==============================] - 58s 121ms/step - loss: 2.2842 - accuracy: 0.1421 - val_loss: 2.2419 - val_accuracy: 0.2728\n",
      "Epoch 2/10\n",
      "469/469 [==============================] - 54s 115ms/step - loss: 2.2164 - accuracy: 0.2614 - val_loss: 2.1621 - val_accuracy: 0.4621\n",
      "Epoch 3/10\n",
      "469/469 [==============================] - 57s 121ms/step - loss: 2.1347 - accuracy: 0.3744 - val_loss: 2.0592 - val_accuracy: 0.6018\n",
      "Epoch 4/10\n",
      "469/469 [==============================] - 60s 127ms/step - loss: 2.0244 - accuracy: 0.4735 - val_loss: 1.9189 - val_accuracy: 0.6689\n",
      "Epoch 5/10\n",
      "469/469 [==============================] - 60s 128ms/step - loss: 1.8776 - accuracy: 0.5503 - val_loss: 1.7341 - val_accuracy: 0.7151\n",
      "Epoch 6/10\n",
      "469/469 [==============================] - 60s 128ms/step - loss: 1.6961 - accuracy: 0.6052 - val_loss: 1.5105 - val_accuracy: 0.7567\n",
      "Epoch 7/10\n",
      "469/469 [==============================] - 61s 129ms/step - loss: 1.4904 - accuracy: 0.6490 - val_loss: 1.2744 - val_accuracy: 0.7847\n",
      "Epoch 8/10\n",
      "469/469 [==============================] - 61s 130ms/step - loss: 1.2915 - accuracy: 0.6791 - val_loss: 1.0623 - val_accuracy: 0.8015\n",
      "Epoch 9/10\n",
      "469/469 [==============================] - 62s 132ms/step - loss: 1.1266 - accuracy: 0.7046 - val_loss: 0.8951 - val_accuracy: 0.8195\n",
      "Epoch 10/10\n",
      "469/469 [==============================] - 61s 130ms/step - loss: 1.0012 - accuracy: 0.7249 - val_loss: 0.7725 - val_accuracy: 0.8335\n"
     ]
    }
   ],
   "source": [
    "hist = model.fit(x_train, y_train, batch_size = batch_size, epochs=epochs, verbose=1, validation_data=(x_test, y_test))"
   ]
  },
  {
   "cell_type": "code",
   "execution_count": 20,
   "id": "175f7188",
   "metadata": {},
   "outputs": [
    {
     "name": "stdout",
     "output_type": "stream",
     "text": [
      "Потери на тесте: 0.7725200057029724\n",
      "Точность на тесте: 0.8335000276565552\n"
     ]
    }
   ],
   "source": [
    "score = model.evaluate(x_test, y_test, verbose=0)\n",
    "print('Потери на тесте:', score[0])\n",
    "print('Точность на тесте:', score[1])"
   ]
  },
  {
   "cell_type": "code",
   "execution_count": 21,
   "id": "a0166ce9",
   "metadata": {},
   "outputs": [],
   "source": [
    "model_1 = Sequential([\n",
    "      keras.Input(shape=input_shape),\n",
    "      Flatten(),\n",
    "      Dense(50,activation = 'relu'),\n",
    "      Dense(10, activation = 'softmax')\n",
    "      ] )"
   ]
  },
  {
   "cell_type": "code",
   "execution_count": 23,
   "id": "701c2fea",
   "metadata": {},
   "outputs": [
    {
     "name": "stdout",
     "output_type": "stream",
     "text": [
      "WARNING:tensorflow:From C:\\Users\\tatia\\anaconda3\\lib\\site-packages\\keras\\src\\optimizers\\__init__.py:309: The name tf.train.Optimizer is deprecated. Please use tf.compat.v1.train.Optimizer instead.\n",
      "\n"
     ]
    }
   ],
   "source": [
    "model_1.compile(loss='categorical_crossentropy', optimizer='adam', metrics=['accuracy'])"
   ]
  },
  {
   "cell_type": "code",
   "execution_count": 24,
   "id": "6f15c7a3",
   "metadata": {},
   "outputs": [
    {
     "name": "stdout",
     "output_type": "stream",
     "text": [
      "Epoch 1/10\n",
      "469/469 [==============================] - 2s 3ms/step - loss: 0.4561 - accuracy: 0.8736 - val_loss: 0.2515 - val_accuracy: 0.9276\n",
      "Epoch 2/10\n",
      "469/469 [==============================] - 1s 3ms/step - loss: 0.2287 - accuracy: 0.9348 - val_loss: 0.1916 - val_accuracy: 0.9456\n",
      "Epoch 3/10\n",
      "469/469 [==============================] - 1s 3ms/step - loss: 0.1775 - accuracy: 0.9500 - val_loss: 0.1690 - val_accuracy: 0.9508\n",
      "Epoch 4/10\n",
      "469/469 [==============================] - 1s 2ms/step - loss: 0.1466 - accuracy: 0.9583 - val_loss: 0.1440 - val_accuracy: 0.9586\n",
      "Epoch 5/10\n",
      "469/469 [==============================] - 1s 2ms/step - loss: 0.1250 - accuracy: 0.9643 - val_loss: 0.1329 - val_accuracy: 0.9610\n",
      "Epoch 6/10\n",
      "469/469 [==============================] - 1s 3ms/step - loss: 0.1093 - accuracy: 0.9684 - val_loss: 0.1246 - val_accuracy: 0.9623\n",
      "Epoch 7/10\n",
      "469/469 [==============================] - 1s 2ms/step - loss: 0.0970 - accuracy: 0.9722 - val_loss: 0.1153 - val_accuracy: 0.9647\n",
      "Epoch 8/10\n",
      "469/469 [==============================] - 1s 3ms/step - loss: 0.0863 - accuracy: 0.9750 - val_loss: 0.1131 - val_accuracy: 0.9664\n",
      "Epoch 9/10\n",
      "469/469 [==============================] - 1s 2ms/step - loss: 0.0784 - accuracy: 0.9780 - val_loss: 0.1035 - val_accuracy: 0.9689\n",
      "Epoch 10/10\n",
      "469/469 [==============================] - 1s 2ms/step - loss: 0.0706 - accuracy: 0.9795 - val_loss: 0.1022 - val_accuracy: 0.9687\n"
     ]
    }
   ],
   "source": [
    "hist = model_1.fit(x_train, y_train, batch_size = batch_size, epochs=epochs, verbose=1, validation_data=(x_test, y_test))"
   ]
  },
  {
   "cell_type": "code",
   "execution_count": 25,
   "id": "df7e51ff",
   "metadata": {},
   "outputs": [
    {
     "name": "stdout",
     "output_type": "stream",
     "text": [
      "Потери на тесте: 0.10219763219356537\n",
      "Точность на тесте: 0.9686999917030334\n"
     ]
    }
   ],
   "source": [
    "score = model_1.evaluate(x_test, y_test, verbose=0)\n",
    "print('Потери на тесте:', score[0])\n",
    "print('Точность на тесте:', score[1])"
   ]
  },
  {
   "cell_type": "code",
   "execution_count": 44,
   "id": "ed225584",
   "metadata": {},
   "outputs": [],
   "source": [
    "model_2 = Sequential([\n",
    "    Conv2D(32, kernel_size=(3, 3), activation='relu', input_shape=input_shape),\n",
    "    MaxPooling2D(pool_size=(2, 2)),\n",
    "    Conv2D(64, kernel_size=(3, 3), activation='relu'),\n",
    "    MaxPooling2D(pool_size=(2, 2)),\n",
    "    Flatten(),\n",
    "    Dense(128, activation='relu'),\n",
    "    Dense(num_classes, activation='softmax')\n",
    "])"
   ]
  },
  {
   "cell_type": "code",
   "execution_count": 45,
   "id": "4a93c80c",
   "metadata": {},
   "outputs": [],
   "source": [
    "model_2.compile(loss='categorical_crossentropy', optimizer='adam', metrics=['accuracy'])"
   ]
  },
  {
   "cell_type": "code",
   "execution_count": 46,
   "id": "a69fe624",
   "metadata": {},
   "outputs": [
    {
     "name": "stdout",
     "output_type": "stream",
     "text": [
      "Epoch 1/10\n",
      "469/469 [==============================] - 14s 29ms/step - loss: 0.1964 - accuracy: 0.9419 - val_loss: 0.0578 - val_accuracy: 0.9820\n",
      "Epoch 2/10\n",
      "469/469 [==============================] - 13s 28ms/step - loss: 0.0552 - accuracy: 0.9832 - val_loss: 0.0397 - val_accuracy: 0.9864\n",
      "Epoch 3/10\n",
      "469/469 [==============================] - 13s 28ms/step - loss: 0.0397 - accuracy: 0.9876 - val_loss: 0.0342 - val_accuracy: 0.9888\n",
      "Epoch 4/10\n",
      "469/469 [==============================] - 13s 29ms/step - loss: 0.0291 - accuracy: 0.9910 - val_loss: 0.0322 - val_accuracy: 0.9882\n",
      "Epoch 5/10\n",
      "469/469 [==============================] - 13s 29ms/step - loss: 0.0231 - accuracy: 0.9926 - val_loss: 0.0291 - val_accuracy: 0.9902\n",
      "Epoch 6/10\n",
      "469/469 [==============================] - 13s 28ms/step - loss: 0.0188 - accuracy: 0.9944 - val_loss: 0.0267 - val_accuracy: 0.9908\n",
      "Epoch 7/10\n",
      "469/469 [==============================] - 14s 29ms/step - loss: 0.0142 - accuracy: 0.9952 - val_loss: 0.0284 - val_accuracy: 0.9898\n",
      "Epoch 8/10\n",
      "469/469 [==============================] - 14s 30ms/step - loss: 0.0117 - accuracy: 0.9962 - val_loss: 0.0413 - val_accuracy: 0.9869\n",
      "Epoch 9/10\n",
      "469/469 [==============================] - 13s 29ms/step - loss: 0.0107 - accuracy: 0.9964 - val_loss: 0.0337 - val_accuracy: 0.9885\n",
      "Epoch 10/10\n",
      "469/469 [==============================] - 14s 29ms/step - loss: 0.0087 - accuracy: 0.9972 - val_loss: 0.0292 - val_accuracy: 0.9914\n"
     ]
    }
   ],
   "source": [
    "hist = model_2.fit(x_train, y_train, batch_size = batch_size, epochs=epochs, verbose=1, validation_data=(x_test, y_test))"
   ]
  },
  {
   "cell_type": "code",
   "execution_count": 59,
   "id": "328a0e60",
   "metadata": {},
   "outputs": [
    {
     "name": "stdout",
     "output_type": "stream",
     "text": [
      "Потери на тесте: 0.029189730063080788\n",
      "Точность на тесте: 0.9914000034332275\n"
     ]
    }
   ],
   "source": [
    "score = model_2.evaluate(x_test, y_test, verbose=0)\n",
    "print('Потери на тесте:', score[0])\n",
    "print('Точность на тесте:', score[1])"
   ]
  },
  {
   "cell_type": "markdown",
   "id": "4e3112a1",
   "metadata": {},
   "source": [
    "# Make a prediction"
   ]
  },
  {
   "cell_type": "code",
   "execution_count": 30,
   "id": "c772eea3",
   "metadata": {},
   "outputs": [],
   "source": [
    "from PIL import Image\n",
    "import numpy as np"
   ]
  },
  {
   "cell_type": "code",
   "execution_count": 60,
   "id": "c847ba35",
   "metadata": {},
   "outputs": [],
   "source": [
    "img = Image.open('hw_2.jpg').convert('L')"
   ]
  },
  {
   "cell_type": "code",
   "execution_count": 61,
   "id": "9714383b",
   "metadata": {},
   "outputs": [],
   "source": [
    "img.show()"
   ]
  },
  {
   "cell_type": "code",
   "execution_count": 62,
   "id": "bb6b0064",
   "metadata": {},
   "outputs": [],
   "source": [
    "img = img.resize((28, 28))\n",
    "img = np.array(img)\n",
    "img = img.reshape(1, 28, 28, 1)\n",
    "img = img.astype('float32')\n",
    "img /= 255"
   ]
  },
  {
   "cell_type": "code",
   "execution_count": 63,
   "id": "1f4aba91",
   "metadata": {},
   "outputs": [
    {
     "name": "stdout",
     "output_type": "stream",
     "text": [
      "1/1 [==============================] - 0s 22ms/step\n",
      "8\n"
     ]
    }
   ],
   "source": [
    "predicted_digit = np.argmax(model_2.predict(img))\n",
    "print(predicted_digit)"
   ]
  }
 ],
 "metadata": {
  "kernelspec": {
   "display_name": "Python 3 (ipykernel)",
   "language": "python",
   "name": "python3"
  },
  "language_info": {
   "codemirror_mode": {
    "name": "ipython",
    "version": 3
   },
   "file_extension": ".py",
   "mimetype": "text/x-python",
   "name": "python",
   "nbconvert_exporter": "python",
   "pygments_lexer": "ipython3",
   "version": "3.9.7"
  }
 },
 "nbformat": 4,
 "nbformat_minor": 5
}
